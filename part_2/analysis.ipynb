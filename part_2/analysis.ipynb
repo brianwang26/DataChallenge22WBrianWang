{
 "cells": [
  {
   "cell_type": "markdown",
   "id": "level-litigation",
   "metadata": {},
   "source": [
    "# Analysis"
   ]
  },
  {
   "cell_type": "code",
   "execution_count": 1,
   "id": "electrical-fishing",
   "metadata": {},
   "outputs": [],
   "source": [
    "import pandas as pd\n",
    "import numpy as np\n",
    "from matplotlib import pyplot as plt\n",
    "from scipy import stats\n",
    "import seaborn as sns\n",
    "import umap\n",
    "import random\n",
    "import matplotlib.cm as cm\n",
    "import math\n",
    "from collections import Counter\n",
    "import warnings\n",
    "warnings.filterwarnings('ignore')"
   ]
  },
  {
   "cell_type": "markdown",
   "id": "decreased-compensation",
   "metadata": {},
   "source": [
    "## Loading in Data"
   ]
  },
  {
   "cell_type": "code",
   "execution_count": 2,
   "id": "filled-nerve",
   "metadata": {},
   "outputs": [
    {
     "data": {
      "text/html": [
       "<div>\n",
       "<style scoped>\n",
       "    .dataframe tbody tr th:only-of-type {\n",
       "        vertical-align: middle;\n",
       "    }\n",
       "\n",
       "    .dataframe tbody tr th {\n",
       "        vertical-align: top;\n",
       "    }\n",
       "\n",
       "    .dataframe thead th {\n",
       "        text-align: right;\n",
       "    }\n",
       "</style>\n",
       "<table border=\"1\" class=\"dataframe\">\n",
       "  <thead>\n",
       "    <tr style=\"text-align: right;\">\n",
       "      <th></th>\n",
       "      <th>new_id</th>\n",
       "      <th>day</th>\n",
       "      <th>date</th>\n",
       "      <th>Anxious.morning</th>\n",
       "      <th>Anxious.afternoon</th>\n",
       "      <th>Anxious.night</th>\n",
       "      <th>gad7_total</th>\n",
       "      <th>month_start_date</th>\n",
       "      <th>month_end_date</th>\n",
       "    </tr>\n",
       "  </thead>\n",
       "  <tbody>\n",
       "    <tr>\n",
       "      <th>0</th>\n",
       "      <td>1001_0</td>\n",
       "      <td>0</td>\n",
       "      <td>2016-05-11</td>\n",
       "      <td>NaN</td>\n",
       "      <td>NaN</td>\n",
       "      <td>NaN</td>\n",
       "      <td>5.0</td>\n",
       "      <td>2016-05-11</td>\n",
       "      <td>2016-06-07</td>\n",
       "    </tr>\n",
       "    <tr>\n",
       "      <th>1</th>\n",
       "      <td>1001_0</td>\n",
       "      <td>1</td>\n",
       "      <td>2016-05-12</td>\n",
       "      <td>NaN</td>\n",
       "      <td>NaN</td>\n",
       "      <td>NaN</td>\n",
       "      <td>5.0</td>\n",
       "      <td>2016-05-11</td>\n",
       "      <td>2016-06-07</td>\n",
       "    </tr>\n",
       "    <tr>\n",
       "      <th>2</th>\n",
       "      <td>1001_0</td>\n",
       "      <td>2</td>\n",
       "      <td>2016-05-13</td>\n",
       "      <td>NaN</td>\n",
       "      <td>NaN</td>\n",
       "      <td>NaN</td>\n",
       "      <td>5.0</td>\n",
       "      <td>2016-05-11</td>\n",
       "      <td>2016-06-07</td>\n",
       "    </tr>\n",
       "    <tr>\n",
       "      <th>3</th>\n",
       "      <td>1001_0</td>\n",
       "      <td>3</td>\n",
       "      <td>2016-05-14</td>\n",
       "      <td>NaN</td>\n",
       "      <td>NaN</td>\n",
       "      <td>NaN</td>\n",
       "      <td>5.0</td>\n",
       "      <td>2016-05-11</td>\n",
       "      <td>2016-06-07</td>\n",
       "    </tr>\n",
       "    <tr>\n",
       "      <th>4</th>\n",
       "      <td>1001_0</td>\n",
       "      <td>4</td>\n",
       "      <td>2016-05-15</td>\n",
       "      <td>NaN</td>\n",
       "      <td>NaN</td>\n",
       "      <td>NaN</td>\n",
       "      <td>5.0</td>\n",
       "      <td>2016-05-11</td>\n",
       "      <td>2016-06-07</td>\n",
       "    </tr>\n",
       "  </tbody>\n",
       "</table>\n",
       "</div>"
      ],
      "text/plain": [
       "   new_id  day        date  Anxious.morning  Anxious.afternoon  Anxious.night  \\\n",
       "0  1001_0    0  2016-05-11              NaN                NaN            NaN   \n",
       "1  1001_0    1  2016-05-12              NaN                NaN            NaN   \n",
       "2  1001_0    2  2016-05-13              NaN                NaN            NaN   \n",
       "3  1001_0    3  2016-05-14              NaN                NaN            NaN   \n",
       "4  1001_0    4  2016-05-15              NaN                NaN            NaN   \n",
       "\n",
       "   gad7_total month_start_date month_end_date  \n",
       "0         5.0       2016-05-11     2016-06-07  \n",
       "1         5.0       2016-05-11     2016-06-07  \n",
       "2         5.0       2016-05-11     2016-06-07  \n",
       "3         5.0       2016-05-11     2016-06-07  \n",
       "4         5.0       2016-05-11     2016-06-07  "
      ]
     },
     "execution_count": 2,
     "metadata": {},
     "output_type": "execute_result"
    }
   ],
   "source": [
    "# Load formatted data \n",
    "data = pd.read_csv(\"Formatted_Data.csv\")\n",
    "data.head()"
   ]
  },
  {
   "cell_type": "code",
   "execution_count": 3,
   "id": "immediate-boxing",
   "metadata": {},
   "outputs": [
    {
     "data": {
      "text/plain": [
       "28"
      ]
     },
     "execution_count": 3,
     "metadata": {},
     "output_type": "execute_result"
    }
   ],
   "source": [
    "# Find number of days per person-month \n",
    "measured_days = []\n",
    "for individual in sorted(list(set(data['new_id']))):\n",
    "    person_data = data[data['new_id']==individual]\n",
    "    measured_days.append(len(person_data))\n",
    "total_timepoints = min(measured_days)\n",
    "total_timepoints"
   ]
  },
  {
   "cell_type": "code",
   "execution_count": 4,
   "id": "ongoing-marker",
   "metadata": {},
   "outputs": [],
   "source": [
    "# Rebuild formatted data df \n",
    "total_array = []\n",
    "for individual in sorted(list(set(data['new_id']))):\n",
    "    person_array = []\n",
    "    person_data = data[data['new_id']==individual]\n",
    "    for time_point in range(total_timepoints):\n",
    "        time_array = list(person_data[['Anxious.morning', 'Anxious.afternoon', 'Anxious.night']].iloc[time_point,:])\n",
    "        time_array = [(data-1)/6.0 for data in time_array]\n",
    "        person_array.append(time_array)\n",
    "    total_array.append(person_array)\n",
    "formatted_data=np.array(total_array)\n",
    "formatted_data_removed_nans = np.nan_to_num(formatted_data, nan=-1)"
   ]
  },
  {
   "cell_type": "code",
   "execution_count": 5,
   "id": "competent-system",
   "metadata": {},
   "outputs": [],
   "source": [
    "# Find and bin GAD-7 for each person-month \n",
    "GAD_outcome = []\n",
    "for i in list(sorted(set(data['new_id']))):\n",
    "    person_data=data[data['new_id']==i]\n",
    "    GAD_outcome.append(list(person_data['gad7_total'])[1])\n",
    "GAD_outcome = np.array(GAD_outcome)\n",
    "GAD_outcome_binned = []\n",
    "for out in GAD_outcome:\n",
    "    if out < 5:\n",
    "        GAD_outcome_binned.append(0)\n",
    "    elif out >=5 and out < 10:\n",
    "        GAD_outcome_binned.append(1)\n",
    "    elif out >=10 and out < 15:\n",
    "        GAD_outcome_binned.append(2)\n",
    "    else:\n",
    "        GAD_outcome_binned.append(3)\n",
    "GAD_outcome = np.nan_to_num(GAD_outcome, np.average(GAD_outcome))\n",
    "GAD_outcome_binned = np.nan_to_num(GAD_outcome_binned, np.average(GAD_outcome_binned))"
   ]
  },
  {
   "cell_type": "code",
   "execution_count": 6,
   "id": "amazing-twenty",
   "metadata": {},
   "outputs": [
    {
     "data": {
      "text/html": [
       "<div>\n",
       "<style scoped>\n",
       "    .dataframe tbody tr th:only-of-type {\n",
       "        vertical-align: middle;\n",
       "    }\n",
       "\n",
       "    .dataframe tbody tr th {\n",
       "        vertical-align: top;\n",
       "    }\n",
       "\n",
       "    .dataframe thead th {\n",
       "        text-align: right;\n",
       "    }\n",
       "</style>\n",
       "<table border=\"1\" class=\"dataframe\">\n",
       "  <thead>\n",
       "    <tr style=\"text-align: right;\">\n",
       "      <th></th>\n",
       "      <th>0</th>\n",
       "      <th>1</th>\n",
       "      <th>2</th>\n",
       "    </tr>\n",
       "  </thead>\n",
       "  <tbody>\n",
       "    <tr>\n",
       "      <th>0</th>\n",
       "      <td>-0.706480</td>\n",
       "      <td>-7.862085e-04</td>\n",
       "      <td>-0.003209</td>\n",
       "    </tr>\n",
       "    <tr>\n",
       "      <th>1</th>\n",
       "      <td>-0.115320</td>\n",
       "      <td>-8.124102e-02</td>\n",
       "      <td>0.265431</td>\n",
       "    </tr>\n",
       "    <tr>\n",
       "      <th>2</th>\n",
       "      <td>-0.105543</td>\n",
       "      <td>-2.817863e-02</td>\n",
       "      <td>-0.507318</td>\n",
       "    </tr>\n",
       "    <tr>\n",
       "      <th>3</th>\n",
       "      <td>-0.835107</td>\n",
       "      <td>-3.306061e-07</td>\n",
       "      <td>-0.000020</td>\n",
       "    </tr>\n",
       "    <tr>\n",
       "      <th>4</th>\n",
       "      <td>-0.193251</td>\n",
       "      <td>-1.154037e-06</td>\n",
       "      <td>-0.000062</td>\n",
       "    </tr>\n",
       "    <tr>\n",
       "      <th>...</th>\n",
       "      <td>...</td>\n",
       "      <td>...</td>\n",
       "      <td>...</td>\n",
       "    </tr>\n",
       "    <tr>\n",
       "      <th>61</th>\n",
       "      <td>0.442759</td>\n",
       "      <td>-2.077148e-01</td>\n",
       "      <td>-0.586962</td>\n",
       "    </tr>\n",
       "    <tr>\n",
       "      <th>62</th>\n",
       "      <td>-0.147095</td>\n",
       "      <td>-3.865291e-02</td>\n",
       "      <td>0.247122</td>\n",
       "    </tr>\n",
       "    <tr>\n",
       "      <th>63</th>\n",
       "      <td>2.504017</td>\n",
       "      <td>9.284002e-03</td>\n",
       "      <td>-0.099583</td>\n",
       "    </tr>\n",
       "    <tr>\n",
       "      <th>64</th>\n",
       "      <td>2.119597</td>\n",
       "      <td>2.862381e-02</td>\n",
       "      <td>-0.243279</td>\n",
       "    </tr>\n",
       "    <tr>\n",
       "      <th>65</th>\n",
       "      <td>2.796334</td>\n",
       "      <td>1.724101e-02</td>\n",
       "      <td>-0.230053</td>\n",
       "    </tr>\n",
       "  </tbody>\n",
       "</table>\n",
       "<p>66 rows × 3 columns</p>\n",
       "</div>"
      ],
      "text/plain": [
       "           0             1         2\n",
       "0  -0.706480 -7.862085e-04 -0.003209\n",
       "1  -0.115320 -8.124102e-02  0.265431\n",
       "2  -0.105543 -2.817863e-02 -0.507318\n",
       "3  -0.835107 -3.306061e-07 -0.000020\n",
       "4  -0.193251 -1.154037e-06 -0.000062\n",
       "..       ...           ...       ...\n",
       "61  0.442759 -2.077148e-01 -0.586962\n",
       "62 -0.147095 -3.865291e-02  0.247122\n",
       "63  2.504017  9.284002e-03 -0.099583\n",
       "64  2.119597  2.862381e-02 -0.243279\n",
       "65  2.796334  1.724101e-02 -0.230053\n",
       "\n",
       "[66 rows x 3 columns]"
      ]
     },
     "execution_count": 6,
     "metadata": {},
     "output_type": "execute_result"
    }
   ],
   "source": [
    "# Extract features from LSTM model's 3rd layer (the one with 3 nodes) for each person-month \n",
    "output_feature_df = pd.read_csv('output_LSTM_3_layer.csv')\n",
    "output_feature = np.array(output_feature_df)\n",
    "output_feature_df"
   ]
  },
  {
   "cell_type": "markdown",
   "id": "beginning-habitat",
   "metadata": {},
   "source": [
    "## UMAP Analysis"
   ]
  },
  {
   "cell_type": "code",
   "execution_count": 7,
   "id": "virgin-extraction",
   "metadata": {},
   "outputs": [],
   "source": [
    "fit = umap.UMAP(random_state=0)\n",
    "my_data = fit.fit_transform(output_feature)"
   ]
  },
  {
   "cell_type": "code",
   "execution_count": 8,
   "id": "convertible-vancouver",
   "metadata": {},
   "outputs": [],
   "source": [
    "# Find new features that data could be clustering on (e.g. percent missingness, variance in anxiety\n",
    "# daily variance in axiety, mean of anxiety, etc.)\n",
    "\n",
    "total_nas = 0\n",
    "all_nas = []\n",
    "filtered_ids = []\n",
    "percent_missing = []\n",
    "all_var = []\n",
    "daily_var = []\n",
    "mean = []\n",
    "def over_70_percent_nan(person_data):\n",
    "    nas = 0 \n",
    "    for time in person_data:\n",
    "        for feat in range(3):\n",
    "            if time[feat] == -1: \n",
    "                nas += 1 \n",
    "    return nas > 58 \n",
    "\n",
    "def nan_percent(person_data):\n",
    "    nas = 0 \n",
    "    for time in person_data:\n",
    "        for feat in range(3):\n",
    "            if time[feat] == -1: \n",
    "                nas += 1 \n",
    "    return nas/(28*3)\n",
    "\n",
    "def var_calc(person_data):\n",
    "    all_data = []\n",
    "    for day in person_data:\n",
    "        for moment in day:\n",
    "            if moment != -1:\n",
    "                all_data.append(moment)\n",
    "    return np.var(all_data)\n",
    "\n",
    "def mean_calc(person_data):\n",
    "    all_data = []\n",
    "    for day in person_data:\n",
    "        for moment in day:\n",
    "            if moment != -1:\n",
    "                all_data.append(moment)\n",
    "    return np.mean(all_data)\n",
    "\n",
    "def daily_var_calc(person_data):\n",
    "    all_data = []\n",
    "    for day in person_data:\n",
    "        day_data = []\n",
    "        for moment in day:\n",
    "            if moment != -1:\n",
    "                day_data.append(moment)\n",
    "        if len(day_data) > 2:\n",
    "            all_data.append(np.var(day_data))\n",
    "    return np.mean(all_data)\n",
    "    \n",
    "data_filtered_nans = [person_data for person_data in formatted_data_removed_nans if not over_70_percent_nan(person_data)]\n",
    "for ind, i in enumerate(formatted_data_removed_nans):\n",
    "    if not over_70_percent_nan(i):\n",
    "        filtered_ids.append(sorted(set(data['new_id']))[ind])\n",
    "        percent_missing.append(nan_percent(i))\n",
    "        all_var.append(var_calc(i))\n",
    "        mean.append(mean_calc(i))\n",
    "        daily_var.append(daily_var_calc(i))\n",
    "        \n",
    "formatted_data_filtered_nans = np.array(data_filtered_nans)"
   ]
  },
  {
   "cell_type": "code",
   "execution_count": 9,
   "id": "guided-quantum",
   "metadata": {},
   "outputs": [
    {
     "data": {
      "text/plain": [
       "Text(0.5, 1.0, 'UMAP- Colored by Percent Missingness')"
      ]
     },
     "execution_count": 9,
     "metadata": {},
     "output_type": "execute_result"
    },
    {
     "data": {
      "image/png": "[encoded data removed]",
      "text/plain": [
       "<Figure size 864x864 with 1 Axes>"
      ]
     },
     "metadata": {
      "needs_background": "light"
     },
     "output_type": "display_data"
    }
   ],
   "source": [
    "MAP='brg'\n",
    "plt.figure(figsize = (12,12))\n",
    "plt.scatter(my_data[:,0], my_data[:,1], c=percent_missing, cmap='Reds')\n",
    "plt.get_cmap(MAP)\n",
    "plt.title('UMAP- Colored by Percent Missingness')"
   ]
  },
  {
   "cell_type": "code",
   "execution_count": 10,
   "id": "strategic-efficiency",
   "metadata": {},
   "outputs": [
    {
     "data": {
      "text/plain": [
       "Text(0.5, 1.0, 'UMAP- Colored by Variance')"
      ]
     },
     "execution_count": 10,
     "metadata": {},
     "output_type": "execute_result"
    },
    {
     "data": {
      "image/png": "[encoded data removed]",
      "text/plain": [
       "<Figure size 864x864 with 1 Axes>"
      ]
     },
     "metadata": {
      "needs_background": "light"
     },
     "output_type": "display_data"
    }
   ],
   "source": [
    "MAP='brg'\n",
    "plt.figure(figsize = (12,12))\n",
    "plt.scatter(my_data[:,0], my_data[:,1], c=all_var, cmap='Reds')\n",
    "plt.get_cmap(MAP)\n",
    "plt.title('UMAP- Colored by Variance')"
   ]
  },
  {
   "cell_type": "code",
   "execution_count": 11,
   "id": "ideal-return",
   "metadata": {},
   "outputs": [
    {
     "data": {
      "text/plain": [
       "Text(0.5, 1.0, 'UMAP- Colored by Mean of Anxiety Data')"
      ]
     },
     "execution_count": 11,
     "metadata": {},
     "output_type": "execute_result"
    },
    {
     "data": {
      "image/png": "[encoded data removed]",
      "text/plain": [
       "<Figure size 864x864 with 1 Axes>"
      ]
     },
     "metadata": {
      "needs_background": "light"
     },
     "output_type": "display_data"
    }
   ],
   "source": [
    "MAP='brg'\n",
    "plt.figure(figsize = (12,12))\n",
    "plt.scatter(my_data[:,0], my_data[:,1], c=mean, cmap='Reds')\n",
    "plt.get_cmap(MAP)\n",
    "plt.title('UMAP- Colored by Mean of Anxiety Data')"
   ]
  },
  {
   "cell_type": "markdown",
   "id": "architectural-simulation",
   "metadata": {},
   "source": [
    "## Hierarchical Clustering Analysis"
   ]
  },
  {
   "cell_type": "code",
   "execution_count": 12,
   "id": "disturbed-groove",
   "metadata": {},
   "outputs": [
    {
     "data": {
      "text/plain": [
       "<seaborn.matrix.ClusterGrid at 0x7fd715e38e10>"
      ]
     },
     "execution_count": 12,
     "metadata": {},
     "output_type": "execute_result"
    },
    {
     "data": {
      "image/png": "[encoded data removed]",
      "text/plain": [
       "<Figure size 720x720 with 5 Axes>"
      ]
     },
     "metadata": {
      "needs_background": "light"
     },
     "output_type": "display_data"
    }
   ],
   "source": [
    "# Hierarchical Clustering colored by GAD-7 score \n",
    "\n",
    "import matplotlib.cm as cm\n",
    "import matplotlib\n",
    "\n",
    "labels = GAD_outcome_binned\n",
    "\n",
    "minima = min(labels)\n",
    "maxima = max(labels)\n",
    "\n",
    "norm = matplotlib.colors.Normalize(vmin=minima, vmax=maxima, clip = True)\n",
    "mapper = cm.ScalarMappable(norm=norm, cmap=cm.bwr)\n",
    "\n",
    "row_colors = []\n",
    "for v in labels:\n",
    "    row_colors.append(mapper.to_rgba(v))\n",
    "\n",
    "sns.clustermap(pd.DataFrame(output_feature), row_colors=row_colors, cmap = 'bwr')"
   ]
  }
 ],
 "metadata": {
  "kernelspec": {
   "display_name": "Python 3",
   "language": "python",
   "name": "python3"
  },
  "language_info": {
   "codemirror_mode": {
    "name": "ipython",
    "version": 3
   },
   "file_extension": ".py",
   "mimetype": "text/x-python",
   "name": "python",
   "nbconvert_exporter": "python",
   "pygments_lexer": "ipython3",
   "version": "3.7.0"
  }
 },
 "nbformat": 4,
 "nbformat_minor": 5
}
